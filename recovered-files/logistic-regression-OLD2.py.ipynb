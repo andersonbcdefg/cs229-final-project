{
 "cells": [
  {
   "cell_type": "code",
   "execution_count": 43,
   "metadata": {},
   "outputs": [],
   "source": [
    "import numpy as np\n",
    "import pandas as pd\n",
    "from sklearn.linear_model import LogisticRegression, SGDClassifier"
   ]
  },
  {
   "cell_type": "code",
   "execution_count": 31,
   "metadata": {},
   "outputs": [],
   "source": [
    "def load_bert_dataset(path):\n",
    "    df = pd.read_csv(path)\n",
    "    y = np.where(df[\"troll\"].values == True, 1, 0)\n",
    "    X = df.iloc[:, 4:].values\n",
    "    return X, y"
   ]
  },
  {
   "cell_type": "code",
   "execution_count": 32,
   "metadata": {},
   "outputs": [
    {
     "name": "stdout",
     "output_type": "stream",
     "text": [
      "(100000, 772)\n"
     ]
    }
   ],
   "source": [
    "X_train, y_train = load_bert_dataset(\"data/transformer-binary/train_bert_small.csv\")"
   ]
  },
  {
   "cell_type": "code",
   "execution_count": 4,
   "metadata": {},
   "outputs": [
    {
     "data": {
      "text/plain": [
       "((100000, 769), (100000,))"
      ]
     },
     "execution_count": 4,
     "metadata": {},
     "output_type": "execute_result"
    }
   ],
   "source": [
    "X_train.shape, y_train.shape"
   ]
  },
  {
   "cell_type": "code",
   "execution_count": 33,
   "metadata": {},
   "outputs": [
    {
     "name": "stderr",
     "output_type": "stream",
     "text": [
      "/Users/ben/.pyenv/versions/3.8.5/envs/data-analysis/lib/python3.8/site-packages/sklearn/linear_model/_sag.py:329: ConvergenceWarning: The max_iter was reached which means the coef_ did not converge\n",
      "  warnings.warn(\"The max_iter was reached which means \"\n"
     ]
    },
    {
     "data": {
      "text/plain": [
       "LogisticRegression(solver='sag')"
      ]
     },
     "execution_count": 33,
     "metadata": {},
     "output_type": "execute_result"
    }
   ],
   "source": [
    "lr = LogisticRegression(solver='sag')\n",
    "lr.fit(X_train, y_train)"
   ]
  },
  {
   "cell_type": "code",
   "execution_count": 34,
   "metadata": {},
   "outputs": [
    {
     "name": "stdout",
     "output_type": "stream",
     "text": [
      "(15000, 772)\n"
     ]
    }
   ],
   "source": [
    "X_dev, y_dev = load_bert_dataset(\"data/transformer-binary/dev_bert_small.csv\")"
   ]
  },
  {
   "cell_type": "code",
   "execution_count": 35,
   "metadata": {},
   "outputs": [],
   "source": [
    "preds = lr.predict(X_dev)"
   ]
  },
  {
   "cell_type": "code",
   "execution_count": 36,
   "metadata": {},
   "outputs": [
    {
     "data": {
      "text/plain": [
       "0.9169333333333334"
      ]
     },
     "execution_count": 36,
     "metadata": {},
     "output_type": "execute_result"
    }
   ],
   "source": [
    "np.mean(preds == y_dev)"
   ]
  },
  {
   "cell_type": "code",
   "execution_count": 40,
   "metadata": {},
   "outputs": [
    {
     "name": "stderr",
     "output_type": "stream",
     "text": [
      "/Users/ben/.pyenv/versions/3.8.5/envs/data-analysis/lib/python3.8/site-packages/sklearn/linear_model/_sag.py:329: ConvergenceWarning: The max_iter was reached which means the coef_ did not converge\n",
      "  warnings.warn(\"The max_iter was reached which means \"\n"
     ]
    },
    {
     "data": {
      "text/plain": [
       "LogisticRegression(solver='sag')"
      ]
     },
     "execution_count": 40,
     "metadata": {},
     "output_type": "execute_result"
    }
   ],
   "source": [
    "lr = LogisticRegression(solver='sag', penalty=\"l2\")\n",
    "lr.fit(X_train, y_train)"
   ]
  },
  {
   "cell_type": "code",
   "execution_count": 41,
   "metadata": {},
   "outputs": [
    {
     "data": {
      "text/plain": [
       "0.9169333333333334"
      ]
     },
     "execution_count": 41,
     "metadata": {},
     "output_type": "execute_result"
    }
   ],
   "source": [
    "preds = lr.predict(X_dev)\n",
    "np.mean(preds == y_dev)"
   ]
  },
  {
   "cell_type": "code",
   "execution_count": 44,
   "metadata": {},
   "outputs": [
    {
     "data": {
      "text/plain": [
       "SGDClassifier()"
      ]
     },
     "execution_count": 44,
     "metadata": {},
     "output_type": "execute_result"
    }
   ],
   "source": [
    "svm = SGDClassifier(loss=\"hinge\")\n",
    "svm.fit(X_train, y_train)"
   ]
  },
  {
   "cell_type": "code",
   "execution_count": 45,
   "metadata": {},
   "outputs": [
    {
     "data": {
      "text/plain": [
       "0.9006"
      ]
     },
     "execution_count": 45,
     "metadata": {},
     "output_type": "execute_result"
    }
   ],
   "source": [
    "preds = svm.predict(X_dev)\n",
    "np.mean(preds == y_dev)"
   ]
  },
  {
   "cell_type": "code",
   "execution_count": null,
   "metadata": {},
   "outputs": [],
   "source": []
  },
  {
   "cell_type": "code",
   "execution_count": null,
   "metadata": {},
   "outputs": [],
   "source": []
  },
  {
   "cell_type": "code",
   "execution_count": null,
   "metadata": {},
   "outputs": [],
   "source": []
  },
  {
   "cell_type": "code",
   "execution_count": 14,
   "metadata": {},
   "outputs": [],
   "source": [
    "pol = pd.read_csv(\"data/preprocessed-text/big-political-preprocessed.csv\")\n",
    "troll = pd.read_csv(\"data/preprocessed-text/preprocessed-troll-tweets.csv\")"
   ]
  },
  {
   "cell_type": "code",
   "execution_count": 17,
   "metadata": {},
   "outputs": [
    {
     "data": {
      "text/plain": [
       "array(['I ask my colleagues to vote against the Calvert amendment 2day &amp; rmber this day in 1868 when SC gave the votes to ratify the 14th amendment.',\n",
       "       \"Let's not be under any illusions about #BDS proponents. They seek nothing less than the destruction of #Israel. https://t.co/emctRXULdx\",\n",
       "       \"Cosponsored the Strong Start for America's Children Act, which expands access to early childhood education http://t.co/3wRITFQydX\",\n",
       "       'Congrats to all teams partaking in #WV Super Six this wknd. Savor this time w your coaches &amp; teammates &amp; good luck: https://t.co/2CFrW2OEDO',\n",
       "       'Congratulations to the newly initiated officers and directors of the OC Korean American Bar Association! https://t.co/pPcF0LTqnf',\n",
       "       'Securing our nation, our future, and our democracy builds a #StrongerAmerica. More here: https://t.co/ehyYI9fWOy https://t.co/eMvMX0w5xW',\n",
       "       'More than 100 of these are pregnant women. #ZikaVirus  https://t.co/KIJxjW5cLd',\n",
       "       '\"Groundwork has been paved &amp; #NewBedford is poised to be the epicenter for #offshorewind.\" #ma09 w/ @MayorMitchellNB http://t.co/9LMxbMpBSw',\n",
       "       'On #InternationalWomensDay celebrate women around the globe #inspiringchange and commit to keep fighting for equality for all women',\n",
       "       '.@WSJ editorial today: \"Once upon a time, Mrs. Warren might have even agreed with Mr. Duffy\" http://t.co/dA5Z5Bj #CFPB #DoddFrank'],\n",
       "      dtype=object)"
      ]
     },
     "execution_count": 17,
     "metadata": {},
     "output_type": "execute_result"
    }
   ],
   "source": [
    "pol.sample(10)[\"content\"].values"
   ]
  },
  {
   "cell_type": "code",
   "execution_count": 18,
   "metadata": {},
   "outputs": [
    {
     "data": {
      "text/plain": [
       "array(['Israel police arrest suspect in threats against US Jewish community centers https://t.co/cRC6BwAot4 https://t.co/aH8YjJehp3',\n",
       "       'Will #Cleveland pay for $4 million judgment against its officer?  https://t.co/YVlcN9RnNE https://t.co/DjKBp9VG4I',\n",
       "       'Condom portrait of Pope Benedict XVI brings visitors, comments  #Milwaukee',\n",
       "       \"'@Cernovich why would a pizza parlor have a .govv subdomain?'\",\n",
       "       'Akron man accused of gunning down man found with bullets, pot in hands: Robert Foster, 37, is accused of killing Marvin Rocker...  #crime',\n",
       "       'This is #Truth �. Yet somehow these same depraved folks have the audacity to portray black ppl as evil & barbaric. https://t.co/W73bMAg0BR',\n",
       "       'Somali pirates on trial in Paris for 2011 hijacking of yacht in Gulf of Aden  #news',\n",
       "       \"#Resist Russian Puppet Trump. #Resist Putin's control of the United States.  #InaugurationDay #blacklivesmatter #notmypresident https://t.co/1XfA7wGsgi\",\n",
       "       'RT FoxBusiness: .SebGorka: \"If you can\\'t stand with your president, whether he\\'s a democrat or a republican, you s… https://t.co/0QI5ocOtMu',\n",
       "       \"'@Community_Court Diversion Programs named Youth Court, Teen Court, Student Court, Peer Court and Peer Jury. #CommunityCourt @Community_Court https://t.co/zBnS2bCxtA'\"],\n",
       "      dtype=object)"
      ]
     },
     "execution_count": 18,
     "metadata": {},
     "output_type": "execute_result"
    }
   ],
   "source": [
    "troll.sample(10)[\"content\"].values"
   ]
  },
  {
   "cell_type": "code",
   "execution_count": 27,
   "metadata": {},
   "outputs": [
    {
     "data": {
      "text/plain": [
       "array([True, 0.11770621, -0.23543096, -0.14382584, -0.14314725,\n",
       "       -0.22739395, -0.41043174, 0.43887132, 0.42781309999999995,\n",
       "       -0.25898463, -0.25287732, -0.20054491, -0.37748232, 0.091145575,\n",
       "       0.5167425999999999, 0.14393224, 0.25313739999999996, -0.28810644,\n",
       "       0.43337372, -0.015080422, -0.07229702, 0.13098153, -0.44912416,\n",
       "       0.25822955, 0.1290973], dtype=object)"
      ]
     },
     "execution_count": 27,
     "metadata": {},
     "output_type": "execute_result"
    }
   ],
   "source": [
    "X_train[0, 0:25]"
   ]
  },
  {
   "cell_type": "code",
   "execution_count": 38,
   "metadata": {},
   "outputs": [],
   "source": [
    "sent = pd.read_csv(\"data/preprocessed-text/sentiment-preprocessed.csv\", encoding=\"latin\")"
   ]
  },
  {
   "cell_type": "code",
   "execution_count": 39,
   "metadata": {},
   "outputs": [
    {
     "data": {
      "text/plain": [
       "array(['SPEECHLESS!!love you too  xo',\n",
       "       'so sory for not blogging! power has been out since 10:30 came on for 10 min at 4:30 and out till now!!!',\n",
       "       'Just arrived on campus. Still dark and dreary outside.  Oh well, time for breakfast.',\n",
       "       'switch my playlist to alphabeat. i love them!!',\n",
       "       'Alton towers was so good yesterday  need to go again',\n",
       "       \"@tommcfly tom there's like 10 girls outside from the hotel now  please come to see us :/ we're here waiting 4 you guys for so long please!\",\n",
       "       'This is how it always goes. I have an AMAZING day and the next day sucks.',\n",
       "       'is stuck in horrible traffic', 'figuring out how this works',\n",
       "       'Aliens is not improving my mood.  Feelin depressed.'],\n",
       "      dtype=object)"
      ]
     },
     "execution_count": 39,
     "metadata": {},
     "output_type": "execute_result"
    }
   ],
   "source": [
    "sent.sample(10)[\"content\"].values"
   ]
  },
  {
   "cell_type": "code",
   "execution_count": null,
   "metadata": {},
   "outputs": [],
   "source": []
  }
 ],
 "metadata": {
  "kernelspec": {
   "display_name": "Python 3",
   "language": "python",
   "name": "python3"
  },
  "language_info": {
   "codemirror_mode": {
    "name": "ipython",
    "version": 3
   },
   "file_extension": ".py",
   "mimetype": "text/x-python",
   "name": "python",
   "nbconvert_exporter": "python",
   "pygments_lexer": "ipython3",
   "version": "3.8.5"
  }
 },
 "nbformat": 4,
 "nbformat_minor": 4
}
