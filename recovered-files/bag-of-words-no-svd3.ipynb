{
 "cells": [
  {
   "cell_type": "code",
   "execution_count": 2,
   "metadata": {},
   "outputs": [],
   "source": [
    "import numpy as np\n",
    "import pickle\n",
    "import matplotlib.pyplot as plt\n",
    "from util import load_dataset, create_learning_curve\n",
    "from sklearn.linear_model import SGDClassifier, LogisticRegression\n",
    "from sklearn.kernel_approximation import Nystroem\n",
    "from sklearn.experimental import enable_hist_gradient_boosting\n",
    "from sklearn.ensemble import HistGradientBoostingClassifier as HGBClassifier\n",
    "from sklearn.metrics import accuracy_score"
   ]
  },
  {
   "cell_type": "code",
   "execution_count": 3,
   "metadata": {},
   "outputs": [
    {
     "name": "stdout",
     "output_type": "stream",
     "text": [
      "Loaded X with shape (100000, 3808), y with shape (100000,).\n"
     ]
    }
   ],
   "source": [
    "X_train, y_train = load_dataset(\"data/bag-of-words-binary/train_bow_large_no_svd.csv\", 100000)"
   ]
  },
  {
   "cell_type": "code",
   "execution_count": 4,
   "metadata": {},
   "outputs": [
    {
     "name": "stdout",
     "output_type": "stream",
     "text": [
      "Loaded X with shape (5000, 3808), y with shape (5000,).\n"
     ]
    }
   ],
   "source": [
    "X_val, y_val = load_dataset(\"data/bag-of-words-binary/dev_bow_large_no_svd.csv\", 5000)"
   ]
  },
  {
   "cell_type": "markdown",
   "metadata": {},
   "source": [
    "## Linear SVMs\n",
    "Create learning curve with linear SVMs, testing on different training set sizes from 0 to 100,000."
   ]
  },
  {
   "cell_type": "code",
   "execution_count": 5,
   "metadata": {},
   "outputs": [],
   "source": [
    "svm_model_params = {\n",
    "    \"loss\":\"hinge\",\n",
    "    \"max_iter\": 5000\n",
    "}\n",
    "svm_lc_params = [SGDClassifier, svm_model_params, \n",
    "             X_train, y_train, X_val, y_val, \n",
    "             [1000, 2000, 5000, 10000, 25000, 50000, 75000, 100000]]"
   ]
  },
  {
   "cell_type": "code",
   "execution_count": 6,
   "metadata": {},
   "outputs": [
    {
     "name": "stdout",
     "output_type": "stream",
     "text": [
      "Training model with 1000 training examples...\n",
      "Training model with 2000 training examples...\n",
      "Training model with 5000 training examples...\n",
      "Training model with 10000 training examples...\n",
      "Training model with 25000 training examples...\n",
      "Training model with 50000 training examples...\n",
      "Training model with 75000 training examples...\n",
      "Training model with 100000 training examples...\n"
     ]
    }
   ],
   "source": [
    "svm_lc = create_learning_curve(*svm_lc_params)"
   ]
  },
  {
   "cell_type": "code",
   "execution_count": 8,
   "metadata": {},
   "outputs": [
    {
     "data": {
      "image/png": "[encoded data removed]",
      "text/plain": [
       "<Figure size 432x288 with 1 Axes>"
      ]
     },
     "metadata": {
      "needs_background": "light"
     },
     "output_type": "display_data"
    }
   ],
   "source": [
    "plt.plot(svm_lc['n'], svm_lc['train'], label=\"Train Accuracy\");\n",
    "plt.plot(svm_lc['n'], svm_lc['val'], label=\"Validation Accuracy\");\n",
    "plt.axhline(y=svm_lc['val'][-1], xmin=0, xmax=1, linestyle=\"--\", alpha=0.25, color=\"purple\");\n",
    "plt.legend();"
   ]
  },
  {
   "cell_type": "code",
   "execution_count": 9,
   "metadata": {},
   "outputs": [],
   "source": [
    "pickle.dump(svm_lc, open(\"BIG-BAG-SVM-RESULTS.pickle\", \"wb+\"))"
   ]
  },
  {
   "cell_type": "markdown",
   "metadata": {},
   "source": [
    "The learning curve suggests that more data would not help very much here; the best we can do with this model is approximately 86% validation accuracy."
   ]
  },
  {
   "cell_type": "markdown",
   "metadata": {},
   "source": [
    "## Logistic Regression\n",
    "Again, we train a logistic regression model on different-sized datasets and plot the learning curve."
   ]
  },
  {
   "cell_type": "code",
   "execution_count": 10,
   "metadata": {},
   "outputs": [],
   "source": [
    "model_params = {\n",
    "    \"solver\":\"sag\"\n",
    "}\n",
    "lc_params = [LogisticRegression, model_params, \n",
    "             X_train, y_train, X_val, y_val, \n",
    "             [1000, 2000, 5000, 10000, 25000, 50000, 75000, 100000]]"
   ]
  },
  {
   "cell_type": "code",
   "execution_count": 11,
   "metadata": {
    "scrolled": true
   },
   "outputs": [
    {
     "name": "stdout",
     "output_type": "stream",
     "text": [
      "Training model with 1000 training examples...\n",
      "Training model with 2000 training examples...\n",
      "Training model with 5000 training examples...\n",
      "Training model with 10000 training examples...\n",
      "Training model with 25000 training examples...\n",
      "Training model with 50000 training examples...\n",
      "Training model with 75000 training examples...\n",
      "Training model with 100000 training examples...\n"
     ]
    }
   ],
   "source": [
    "lc = create_learning_curve(*lc_params)"
   ]
  },
  {
   "cell_type": "code",
   "execution_count": 13,
   "metadata": {},
   "outputs": [
    {
     "data": {
      "image/png": "[encoded data removed]",
      "text/plain": [
       "<Figure size 432x288 with 1 Axes>"
      ]
     },
     "metadata": {
      "needs_background": "light"
     },
     "output_type": "display_data"
    }
   ],
   "source": [
    "plt.plot(lc['n'], lc['train'], label=\"Train Accuracy\");\n",
    "plt.plot(lc['n'], lc['val'], label=\"Validation Accuracy\");\n",
    "plt.axhline(y=lc['val'][-1], xmin=0, xmax=1, linestyle=\"--\", alpha=0.25, color=\"purple\");\n",
    "plt.legend();"
   ]
  },
  {
   "cell_type": "markdown",
   "metadata": {},
   "source": [
    "More data seems like it would be of limited help, the training accuracy seems to be converging, so with more training data we could probably get up to around 87%."
   ]
  },
  {
   "cell_type": "code",
   "execution_count": 15,
   "metadata": {},
   "outputs": [],
   "source": [
    "pickle.dump(lc, open(\"BIG-BAG-LOGREG-RESULTS.pickle\", \"wb+\"))"
   ]
  },
  {
   "cell_type": "markdown",
   "metadata": {},
   "source": [
    "## Kernelized SVMs\n",
    "We fit an approximate kernel function to the (small) BERT training dataset, and use this to extract new features to fit an SVM. We create a learning curve for each setting of hyperparameters, which include the number of features, and the radius gamma."
   ]
  },
  {
   "cell_type": "code",
   "execution_count": 16,
   "metadata": {},
   "outputs": [
    {
     "name": "stdout",
     "output_type": "stream",
     "text": [
      "Kernel approximation using gamma = 1.3020833333333334e-05, n_components = 500\n",
      "Training model with 1000 training examples...\n",
      "Training model with 2000 training examples...\n",
      "Training model with 5000 training examples...\n",
      "Training model with 10000 training examples...\n",
      "Training model with 25000 training examples...\n",
      "Training model with 50000 training examples...\n",
      "Training model with 75000 training examples...\n",
      "Training model with 100000 training examples...\n",
      "Kernel approximation using gamma = 1.3020833333333334e-05, n_components = 1000\n",
      "Training model with 1000 training examples...\n",
      "Training model with 2000 training examples...\n",
      "Training model with 5000 training examples...\n",
      "Training model with 10000 training examples...\n",
      "Training model with 25000 training examples...\n",
      "Training model with 50000 training examples...\n",
      "Training model with 75000 training examples...\n",
      "Training model with 100000 training examples...\n",
      "Kernel approximation using gamma = 0.00013020833333333333, n_components = 500\n",
      "Training model with 1000 training examples...\n",
      "Training model with 2000 training examples...\n",
      "Training model with 5000 training examples...\n",
      "Training model with 10000 training examples...\n",
      "Training model with 25000 training examples...\n",
      "Training model with 50000 training examples...\n",
      "Training model with 75000 training examples...\n",
      "Training model with 100000 training examples...\n",
      "Kernel approximation using gamma = 0.00013020833333333333, n_components = 1000\n",
      "Training model with 1000 training examples...\n",
      "Training model with 2000 training examples...\n",
      "Training model with 5000 training examples...\n",
      "Training model with 10000 training examples...\n",
      "Training model with 25000 training examples...\n",
      "Training model with 50000 training examples...\n",
      "Training model with 75000 training examples...\n",
      "Training model with 100000 training examples...\n",
      "Kernel approximation using gamma = 0.0013020833333333333, n_components = 500\n",
      "Training model with 1000 training examples...\n",
      "Training model with 2000 training examples...\n",
      "Training model with 5000 training examples...\n",
      "Training model with 10000 training examples...\n",
      "Training model with 25000 training examples...\n",
      "Training model with 50000 training examples...\n",
      "Training model with 75000 training examples...\n",
      "Training model with 100000 training examples...\n",
      "Kernel approximation using gamma = 0.0013020833333333333, n_components = 1000\n",
      "Training model with 1000 training examples...\n",
      "Training model with 2000 training examples...\n",
      "Training model with 5000 training examples...\n",
      "Training model with 10000 training examples...\n",
      "Training model with 25000 training examples...\n",
      "Training model with 50000 training examples...\n",
      "Training model with 75000 training examples...\n",
      "Training model with 100000 training examples...\n",
      "Kernel approximation using gamma = 0.013020833333333334, n_components = 500\n",
      "Training model with 1000 training examples...\n",
      "Training model with 2000 training examples...\n",
      "Training model with 5000 training examples...\n",
      "Training model with 10000 training examples...\n",
      "Training model with 25000 training examples...\n",
      "Training model with 50000 training examples...\n",
      "Training model with 75000 training examples...\n",
      "Training model with 100000 training examples...\n",
      "Kernel approximation using gamma = 0.013020833333333334, n_components = 1000\n",
      "Training model with 1000 training examples...\n",
      "Training model with 2000 training examples...\n",
      "Training model with 5000 training examples...\n",
      "Training model with 10000 training examples...\n",
      "Training model with 25000 training examples...\n",
      "Training model with 50000 training examples...\n",
      "Training model with 75000 training examples...\n",
      "Training model with 100000 training examples...\n",
      "Kernel approximation using gamma = 0.13020833333333334, n_components = 500\n",
      "Training model with 1000 training examples...\n",
      "Training model with 2000 training examples...\n",
      "Training model with 5000 training examples...\n",
      "Training model with 10000 training examples...\n",
      "Training model with 25000 training examples...\n",
      "Training model with 50000 training examples...\n",
      "Training model with 75000 training examples...\n",
      "Training model with 100000 training examples...\n",
      "Kernel approximation using gamma = 0.13020833333333334, n_components = 1000\n",
      "Training model with 1000 training examples...\n",
      "Training model with 2000 training examples...\n",
      "Training model with 5000 training examples...\n",
      "Training model with 10000 training examples...\n",
      "Training model with 25000 training examples...\n",
      "Training model with 50000 training examples...\n",
      "Training model with 75000 training examples...\n",
      "Training model with 100000 training examples...\n"
     ]
    }
   ],
   "source": [
    "kernel_lcs = []\n",
    "for gamma in [n / 768 for n in [0.01, 0.1, 1.0, 10, 100]]:\n",
    "    for n_components in [500, 1000]:\n",
    "        print(f\"Kernel approximation using gamma = {gamma}, n_components = {n_components}\")\n",
    "        feature_map_nystroem = Nystroem(gamma=gamma, random_state=229, n_components=n_components)\n",
    "        X_train_transformed = feature_map_nystroem.fit_transform(X_train)\n",
    "        X_val_transformed = feature_map_nystroem.transform(X_val)\n",
    "        kernel_svm_model_params = {\n",
    "            \"loss\":\"hinge\",\n",
    "            \"max_iter\": 5000\n",
    "        }\n",
    "        kernel_svm_lc_params = [SGDClassifier, svm_model_params, \n",
    "                                X_train_transformed, y_train, X_val_transformed, y_val, \n",
    "                     [1000, 2000, 5000, 10000, 25000, 50000, 75000, 100000]]\n",
    "        kernel_svm_lc = create_learning_curve(*kernel_svm_lc_params)\n",
    "        kernel_svm_lc[\"gamma\"] = gamma\n",
    "        kernel_svm_lc[\"n_components\"] = n_components\n",
    "        kernel_lcs.append(kernel_svm_lc)"
   ]
  },
  {
   "cell_type": "code",
   "execution_count": 20,
   "metadata": {},
   "outputs": [],
   "source": [
    "for curr_lc in kernel_lcs:\n",
    "    plt.plot(curr_lc['n'], curr_lc['train'], label=\"Train Accuracy\");\n",
    "    plt.plot(curr_lc['n'], curr_lc['val'], label=\"Validation Accuracy\");\n",
    "    plt.axhline(y=curr_lc['val'][-1], xmin=0, xmax=1, linestyle=\"--\", alpha=0.25, color=\"purple\");\n",
    "    plt.legend();\n",
    "    plt.savefig(f\"big-bag-kernel-{np.round(curr_lc['gamma'], 5)}-{curr_lc['n_components']}.png\")\n",
    "    plt.close()"
   ]
  },
  {
   "cell_type": "markdown",
   "metadata": {},
   "source": [
    "After looking at all of these plots, none suggested that the RBF kernel was particularly helpful, or showed a high training accuracy but lower validation accuracy that might be bridged with more data. As such, I decided to move on from this approach."
   ]
  },
  {
   "cell_type": "code",
   "execution_count": 18,
   "metadata": {},
   "outputs": [],
   "source": [
    "pickle.dump(kernel_lcs, open(\"BIG-BAG-KERNEL-RESULTS.pickle\", \"wb+\"))"
   ]
  },
  {
   "cell_type": "markdown",
   "metadata": {},
   "source": [
    "## Gradient-Boosted Trees\n",
    "For the final model, I tested gradient boosted trees, creating a learning curve for each setting of the hyperparameters."
   ]
  },
  {
   "cell_type": "code",
   "execution_count": 19,
   "metadata": {},
   "outputs": [
    {
     "name": "stdout",
     "output_type": "stream",
     "text": [
      "Kernel approximation using lr = 0.001, regularization = 0\n",
      "Training model with 1000 training examples...\n",
      "Training model with 2000 training examples...\n",
      "Training model with 5000 training examples...\n",
      "Training model with 10000 training examples...\n",
      "Training model with 25000 training examples...\n",
      "Training model with 50000 training examples...\n",
      "Training model with 75000 training examples...\n",
      "Training model with 100000 training examples...\n",
      "Kernel approximation using lr = 0.001, regularization = 0.001\n",
      "Training model with 1000 training examples...\n",
      "Training model with 2000 training examples...\n",
      "Training model with 5000 training examples...\n",
      "Training model with 10000 training examples...\n",
      "Training model with 25000 training examples...\n",
      "Training model with 50000 training examples...\n",
      "Training model with 75000 training examples...\n",
      "Training model with 100000 training examples...\n",
      "Kernel approximation using lr = 0.001, regularization = 0.01\n",
      "Training model with 1000 training examples...\n",
      "Training model with 2000 training examples...\n",
      "Training model with 5000 training examples...\n",
      "Training model with 10000 training examples...\n",
      "Training model with 25000 training examples...\n",
      "Training model with 50000 training examples...\n",
      "Training model with 75000 training examples...\n",
      "Training model with 100000 training examples...\n",
      "Kernel approximation using lr = 0.001, regularization = 0.1\n",
      "Training model with 1000 training examples...\n",
      "Training model with 2000 training examples...\n",
      "Training model with 5000 training examples...\n",
      "Training model with 10000 training examples...\n",
      "Training model with 25000 training examples...\n",
      "Training model with 50000 training examples...\n",
      "Training model with 75000 training examples...\n",
      "Training model with 100000 training examples...\n",
      "Kernel approximation using lr = 0.003, regularization = 0\n",
      "Training model with 1000 training examples...\n",
      "Training model with 2000 training examples...\n",
      "Training model with 5000 training examples...\n",
      "Training model with 10000 training examples...\n",
      "Training model with 25000 training examples...\n",
      "Training model with 50000 training examples...\n",
      "Training model with 75000 training examples...\n",
      "Training model with 100000 training examples...\n",
      "Kernel approximation using lr = 0.003, regularization = 0.001\n",
      "Training model with 1000 training examples...\n",
      "Training model with 2000 training examples...\n",
      "Training model with 5000 training examples...\n",
      "Training model with 10000 training examples...\n",
      "Training model with 25000 training examples...\n",
      "Training model with 50000 training examples...\n",
      "Training model with 75000 training examples...\n",
      "Training model with 100000 training examples...\n",
      "Kernel approximation using lr = 0.003, regularization = 0.01\n",
      "Training model with 1000 training examples...\n",
      "Training model with 2000 training examples...\n",
      "Training model with 5000 training examples...\n",
      "Training model with 10000 training examples...\n",
      "Training model with 25000 training examples...\n",
      "Training model with 50000 training examples...\n",
      "Training model with 75000 training examples...\n",
      "Training model with 100000 training examples...\n",
      "Kernel approximation using lr = 0.003, regularization = 0.1\n",
      "Training model with 1000 training examples...\n",
      "Training model with 2000 training examples...\n",
      "Training model with 5000 training examples...\n",
      "Training model with 10000 training examples...\n",
      "Training model with 25000 training examples...\n",
      "Training model with 50000 training examples...\n",
      "Training model with 75000 training examples...\n",
      "Training model with 100000 training examples...\n",
      "Kernel approximation using lr = 0.01, regularization = 0\n",
      "Training model with 1000 training examples...\n",
      "Training model with 2000 training examples...\n",
      "Training model with 5000 training examples...\n",
      "Training model with 10000 training examples...\n",
      "Training model with 25000 training examples...\n",
      "Training model with 50000 training examples...\n",
      "Training model with 75000 training examples...\n",
      "Training model with 100000 training examples...\n",
      "Kernel approximation using lr = 0.01, regularization = 0.001\n",
      "Training model with 1000 training examples...\n",
      "Training model with 2000 training examples...\n",
      "Training model with 5000 training examples...\n",
      "Training model with 10000 training examples...\n",
      "Training model with 25000 training examples...\n",
      "Training model with 50000 training examples...\n",
      "Training model with 75000 training examples...\n",
      "Training model with 100000 training examples...\n",
      "Kernel approximation using lr = 0.01, regularization = 0.01\n",
      "Training model with 1000 training examples...\n",
      "Training model with 2000 training examples...\n",
      "Training model with 5000 training examples...\n",
      "Training model with 10000 training examples...\n",
      "Training model with 25000 training examples...\n",
      "Training model with 50000 training examples...\n",
      "Training model with 75000 training examples...\n",
      "Training model with 100000 training examples...\n",
      "Kernel approximation using lr = 0.01, regularization = 0.1\n",
      "Training model with 1000 training examples...\n",
      "Training model with 2000 training examples...\n",
      "Training model with 5000 training examples...\n",
      "Training model with 10000 training examples...\n",
      "Training model with 25000 training examples...\n",
      "Training model with 50000 training examples...\n",
      "Training model with 75000 training examples...\n",
      "Training model with 100000 training examples...\n",
      "Kernel approximation using lr = 0.03, regularization = 0\n",
      "Training model with 1000 training examples...\n",
      "Training model with 2000 training examples...\n",
      "Training model with 5000 training examples...\n",
      "Training model with 10000 training examples...\n",
      "Training model with 25000 training examples...\n",
      "Training model with 50000 training examples...\n",
      "Training model with 75000 training examples...\n",
      "Training model with 100000 training examples...\n",
      "Kernel approximation using lr = 0.03, regularization = 0.001\n",
      "Training model with 1000 training examples...\n",
      "Training model with 2000 training examples...\n",
      "Training model with 5000 training examples...\n",
      "Training model with 10000 training examples...\n",
      "Training model with 25000 training examples...\n",
      "Training model with 50000 training examples...\n",
      "Training model with 75000 training examples...\n",
      "Training model with 100000 training examples...\n",
      "Kernel approximation using lr = 0.03, regularization = 0.01\n",
      "Training model with 1000 training examples...\n",
      "Training model with 2000 training examples...\n",
      "Training model with 5000 training examples...\n",
      "Training model with 10000 training examples...\n",
      "Training model with 25000 training examples...\n",
      "Training model with 50000 training examples...\n",
      "Training model with 75000 training examples...\n",
      "Training model with 100000 training examples...\n",
      "Kernel approximation using lr = 0.03, regularization = 0.1\n",
      "Training model with 1000 training examples...\n",
      "Training model with 2000 training examples...\n",
      "Training model with 5000 training examples...\n",
      "Training model with 10000 training examples...\n",
      "Training model with 25000 training examples...\n",
      "Training model with 50000 training examples...\n",
      "Training model with 75000 training examples...\n",
      "Training model with 100000 training examples...\n",
      "Kernel approximation using lr = 0.1, regularization = 0\n",
      "Training model with 1000 training examples...\n",
      "Training model with 2000 training examples...\n",
      "Training model with 5000 training examples...\n",
      "Training model with 10000 training examples...\n",
      "Training model with 25000 training examples...\n",
      "Training model with 50000 training examples...\n",
      "Training model with 75000 training examples...\n",
      "Training model with 100000 training examples...\n",
      "Kernel approximation using lr = 0.1, regularization = 0.001\n",
      "Training model with 1000 training examples...\n",
      "Training model with 2000 training examples...\n",
      "Training model with 5000 training examples...\n",
      "Training model with 10000 training examples...\n",
      "Training model with 25000 training examples...\n",
      "Training model with 50000 training examples...\n",
      "Training model with 75000 training examples...\n",
      "Training model with 100000 training examples...\n",
      "Kernel approximation using lr = 0.1, regularization = 0.01\n",
      "Training model with 1000 training examples...\n",
      "Training model with 2000 training examples...\n",
      "Training model with 5000 training examples...\n",
      "Training model with 10000 training examples...\n",
      "Training model with 25000 training examples...\n",
      "Training model with 50000 training examples...\n",
      "Training model with 75000 training examples...\n",
      "Training model with 100000 training examples...\n"
     ]
    },
    {
     "name": "stdout",
     "output_type": "stream",
     "text": [
      "Kernel approximation using lr = 0.1, regularization = 0.1\n",
      "Training model with 1000 training examples...\n",
      "Training model with 2000 training examples...\n",
      "Training model with 5000 training examples...\n",
      "Training model with 10000 training examples...\n",
      "Training model with 25000 training examples...\n",
      "Training model with 50000 training examples...\n",
      "Training model with 75000 training examples...\n",
      "Training model with 100000 training examples...\n",
      "Kernel approximation using lr = 0.3, regularization = 0\n",
      "Training model with 1000 training examples...\n",
      "Training model with 2000 training examples...\n",
      "Training model with 5000 training examples...\n",
      "Training model with 10000 training examples...\n",
      "Training model with 25000 training examples...\n",
      "Training model with 50000 training examples...\n",
      "Training model with 75000 training examples...\n",
      "Training model with 100000 training examples...\n",
      "Kernel approximation using lr = 0.3, regularization = 0.001\n",
      "Training model with 1000 training examples...\n",
      "Training model with 2000 training examples...\n",
      "Training model with 5000 training examples...\n",
      "Training model with 10000 training examples...\n",
      "Training model with 25000 training examples...\n",
      "Training model with 50000 training examples...\n",
      "Training model with 75000 training examples...\n",
      "Training model with 100000 training examples...\n",
      "Kernel approximation using lr = 0.3, regularization = 0.01\n",
      "Training model with 1000 training examples...\n",
      "Training model with 2000 training examples...\n",
      "Training model with 5000 training examples...\n",
      "Training model with 10000 training examples...\n",
      "Training model with 25000 training examples...\n",
      "Training model with 50000 training examples...\n",
      "Training model with 75000 training examples...\n",
      "Training model with 100000 training examples...\n",
      "Kernel approximation using lr = 0.3, regularization = 0.1\n",
      "Training model with 1000 training examples...\n",
      "Training model with 2000 training examples...\n",
      "Training model with 5000 training examples...\n",
      "Training model with 10000 training examples...\n",
      "Training model with 25000 training examples...\n",
      "Training model with 50000 training examples...\n",
      "Training model with 75000 training examples...\n",
      "Training model with 100000 training examples...\n",
      "Kernel approximation using lr = 1, regularization = 0\n",
      "Training model with 1000 training examples...\n",
      "Training model with 2000 training examples...\n",
      "Training model with 5000 training examples...\n",
      "Training model with 10000 training examples...\n",
      "Training model with 25000 training examples...\n",
      "Training model with 50000 training examples...\n",
      "Training model with 75000 training examples...\n",
      "Training model with 100000 training examples...\n",
      "Kernel approximation using lr = 1, regularization = 0.001\n",
      "Training model with 1000 training examples...\n",
      "Training model with 2000 training examples...\n",
      "Training model with 5000 training examples...\n",
      "Training model with 10000 training examples...\n",
      "Training model with 25000 training examples...\n",
      "Training model with 50000 training examples...\n",
      "Training model with 75000 training examples...\n",
      "Training model with 100000 training examples...\n",
      "Kernel approximation using lr = 1, regularization = 0.01\n",
      "Training model with 1000 training examples...\n",
      "Training model with 2000 training examples...\n",
      "Training model with 5000 training examples...\n",
      "Training model with 10000 training examples...\n",
      "Training model with 25000 training examples...\n",
      "Training model with 50000 training examples...\n",
      "Training model with 75000 training examples...\n",
      "Training model with 100000 training examples...\n",
      "Kernel approximation using lr = 1, regularization = 0.1\n",
      "Training model with 1000 training examples...\n",
      "Training model with 2000 training examples...\n",
      "Training model with 5000 training examples...\n",
      "Training model with 10000 training examples...\n",
      "Training model with 25000 training examples...\n",
      "Training model with 50000 training examples...\n",
      "Training model with 75000 training examples...\n",
      "Training model with 100000 training examples...\n"
     ]
    }
   ],
   "source": [
    "hgb_lcs = []\n",
    "for lr in [0.001, 0.003, 0.01, 0.03, 0.1, 0.3, 1]:\n",
    "    for l2 in [0, 0.001, 0.01, 0.1]:\n",
    "        print(f\"Kernel approximation using lr = {lr}, regularization = {l2}\")\n",
    "        hgb_model_params = {\n",
    "            \"max_iter\": 100,\n",
    "            \"l2_regularization\": l2,\n",
    "            \"learning_rate\": lr,\n",
    "            \"scoring\":\"loss\",\n",
    "            \"early_stopping\":True,\n",
    "            \"validation_fraction\": None\n",
    "        }\n",
    "        hgb_lc_params = [HGBClassifier, hgb_model_params, \n",
    "                    X_train, y_train, X_val, y_val, \n",
    "                    [1000, 2000, 5000, 10000, 25000, 50000, 75000, 100000]]\n",
    "        hgb_lc = create_learning_curve(*hgb_lc_params)\n",
    "        hgb_lc[\"lr\"] = lr\n",
    "        hgb_lc[\"l2\"] = l2\n",
    "        hgb_lcs.append(hgb_lc)"
   ]
  },
  {
   "cell_type": "code",
   "execution_count": 21,
   "metadata": {},
   "outputs": [],
   "source": [
    "for hgb_lc in hgb_lcs:\n",
    "    plt.plot(hgb_lc['n'], hgb_lc['train'], label=\"Train Accuracy\");\n",
    "    plt.plot(hgb_lc['n'], hgb_lc['val'], label=\"Validation Accuracy\");\n",
    "    plt.axhline(y=hgb_lc['val'][-1], xmin=0, xmax=1, linestyle=\"--\", alpha=0.25, color=\"purple\");\n",
    "    plt.legend();\n",
    "    plt.savefig(f\"big-bag-hgb-lr{hgb_lc['lr']}-l2{hgb_lc['l2']}.png\")\n",
    "    plt.close()"
   ]
  },
  {
   "cell_type": "code",
   "execution_count": 22,
   "metadata": {},
   "outputs": [],
   "source": [
    "pickle.dump(hgb_lc, open(\"BIG-BAG-HGB-SMALL-RESULTS.pickle\", \"wb+\"))"
   ]
  },
  {
   "cell_type": "code",
   "execution_count": 23,
   "metadata": {},
   "outputs": [],
   "source": [
    "hgblc_dict = {(h[\"lr\"], h[\"l2\"]):h for h in hgb_lcs}"
   ]
  },
  {
   "cell_type": "code",
   "execution_count": 24,
   "metadata": {},
   "outputs": [],
   "source": [
    "good_lc = hgblc_dict[(1, 0.01)]"
   ]
  },
  {
   "cell_type": "markdown",
   "metadata": {},
   "source": [
    "Some of these learning curves suggest that more data (or other methods to reduce variance) could yield a higher accuracy that the best models so far. For example, the following learning curve with learning rate 1 and L2 regularization parameter 0.01."
   ]
  },
  {
   "cell_type": "code",
   "execution_count": 25,
   "metadata": {},
   "outputs": [
    {
     "data": {
      "image/png": "[encoded data removed]",
      "text/plain": [
       "<Figure size 432x288 with 1 Axes>"
      ]
     },
     "metadata": {
      "needs_background": "light"
     },
     "output_type": "display_data"
    }
   ],
   "source": [
    "plt.plot(good_lc['n'], good_lc['train'], label=\"Train Accuracy\");\n",
    "plt.plot(good_lc['n'], good_lc['val'], label=\"Validation Accuracy\");\n",
    "plt.axhline(y=good_lc['val'][-1], xmin=0, xmax=1, linestyle=\"--\", alpha=0.25, color=\"purple\");\n",
    "plt.legend();"
   ]
  },
  {
   "cell_type": "markdown",
   "metadata": {},
   "source": [
    "## Gradient-Boosted Trees with More Data\n",
    "We investigate using more training data. We stick with 5000 examples for validation. We also increase the maximum number of trees permitted so that the model can be more expressive, relying on more training data to reduce variance."
   ]
  },
  {
   "cell_type": "code",
   "execution_count": 27,
   "metadata": {},
   "outputs": [
    {
     "name": "stdout",
     "output_type": "stream",
     "text": [
      "Loaded X with shape (2500000, 3808), y with shape (2500000,).\n"
     ]
    }
   ],
   "source": [
    "X_train_full, y_train_full = load_dataset(\n",
    "    \"data/bag-of-words-binary/train_bow_large_no_svd.csv\", 2500000\n",
    ")"
   ]
  },
  {
   "cell_type": "code",
   "execution_count": 28,
   "metadata": {},
   "outputs": [],
   "source": [
    "# Learning rate: 1\n",
    "# Regularization: 0.01\n",
    "big_hgb_model_params = {\n",
    "    \"max_iter\": 150,\n",
    "    \"l2_regularization\": 0.6,\n",
    "    \"learning_rate\": 0.6,\n",
    "    \"scoring\":\"loss\",\n",
    "    \"early_stopping\":True,\n",
    "    \"validation_fraction\": None\n",
    "}\n",
    "model = HGBClassifier(**big_hgb_model_params)"
   ]
  },
  {
   "cell_type": "code",
   "execution_count": 29,
   "metadata": {},
   "outputs": [
    {
     "data": {
      "text/plain": [
       "HistGradientBoostingClassifier(early_stopping=True, l2_regularization=0.6,\n",
       "                               learning_rate=0.6, max_iter=150,\n",
       "                               validation_fraction=None)"
      ]
     },
     "execution_count": 29,
     "metadata": {},
     "output_type": "execute_result"
    }
   ],
   "source": [
    "model.fit(X_train_full, y_train_full.astype('int'))"
   ]
  },
  {
   "cell_type": "code",
   "execution_count": 30,
   "metadata": {},
   "outputs": [
    {
     "data": {
      "text/plain": [
       "0.8635372"
      ]
     },
     "execution_count": 30,
     "metadata": {},
     "output_type": "execute_result"
    }
   ],
   "source": [
    "model.score(X_train_full, y_train_full.astype('int'))"
   ]
  },
  {
   "cell_type": "code",
   "execution_count": 31,
   "metadata": {},
   "outputs": [
    {
     "data": {
      "text/plain": [
       "0.8704"
      ]
     },
     "execution_count": 31,
     "metadata": {},
     "output_type": "execute_result"
    }
   ],
   "source": [
    "model.score(X_val, y_val)"
   ]
  },
  {
   "cell_type": "code",
   "execution_count": 32,
   "metadata": {},
   "outputs": [],
   "source": [
    "# Learning rate: 0.9\n",
    "# Regularization: 0.5\n",
    "big_hgb_model_params_2 = {\n",
    "    \"max_iter\": 200,\n",
    "    \"l2_regularization\": 0.5,\n",
    "    \"learning_rate\": 0.9,\n",
    "    \"scoring\":\"loss\",\n",
    "    \"early_stopping\": True,\n",
    "    \"validation_fraction\": None\n",
    "}\n",
    "model2 = HGBClassifier(**big_hgb_model_params)"
   ]
  },
  {
   "cell_type": "code",
   "execution_count": 33,
   "metadata": {},
   "outputs": [
    {
     "data": {
      "text/plain": [
       "HistGradientBoostingClassifier(early_stopping=True, l2_regularization=0.6,\n",
       "                               learning_rate=0.6, max_iter=150,\n",
       "                               validation_fraction=None)"
      ]
     },
     "execution_count": 33,
     "metadata": {},
     "output_type": "execute_result"
    }
   ],
   "source": [
    "model2.fit(X_train_full, y_train_full.astype('int'))"
   ]
  },
  {
   "cell_type": "code",
   "execution_count": 34,
   "metadata": {},
   "outputs": [
    {
     "data": {
      "text/plain": [
       "0.8635372"
      ]
     },
     "execution_count": 34,
     "metadata": {},
     "output_type": "execute_result"
    }
   ],
   "source": [
    "model2.score(X_train_full, y_train_full.astype('int'))"
   ]
  },
  {
   "cell_type": "code",
   "execution_count": 35,
   "metadata": {},
   "outputs": [
    {
     "data": {
      "text/plain": [
       "0.8704"
      ]
     },
     "execution_count": 35,
     "metadata": {},
     "output_type": "execute_result"
    }
   ],
   "source": [
    "model2.score(X_val, y_val)"
   ]
  },
  {
   "cell_type": "code",
   "execution_count": 36,
   "metadata": {},
   "outputs": [],
   "source": [
    "pickle.dump(model2, open(\"BIG-BAG-BEST-HGB-BIG.pickle\", \"wb+\"))"
   ]
  },
  {
   "cell_type": "markdown",
   "metadata": {},
   "source": [
    "## Ensemble\n",
    "Create a voting ensemble that leverages the best SVM, logistic regression, and decision tree."
   ]
  },
  {
   "cell_type": "code",
   "execution_count": 37,
   "metadata": {},
   "outputs": [],
   "source": [
    "svm_data = pickle.load(open(\"BIG-BAG-SVM-RESULTS.pickle\", \"rb\"))\n",
    "best_svm = svm_data[\"model\"][-1]"
   ]
  },
  {
   "cell_type": "code",
   "execution_count": 38,
   "metadata": {},
   "outputs": [],
   "source": [
    "logreg_data = pickle.load(open(\"BIG-BAG-LOGREG-RESULTS.pickle\", \"rb\"))\n",
    "best_logreg = logreg_data[\"model\"][-1]"
   ]
  },
  {
   "cell_type": "code",
   "execution_count": 39,
   "metadata": {},
   "outputs": [],
   "source": [
    "best_hgb = pickle.load(open(\"BIG-BAG-BEST-HGB-BIG.pickle\", \"rb\"))"
   ]
  },
  {
   "cell_type": "code",
   "execution_count": 40,
   "metadata": {},
   "outputs": [],
   "source": [
    "from mlxtend.classifier import EnsembleVoteClassifier\n",
    "import copy\n",
    "ensemble = EnsembleVoteClassifier(\n",
    "    clfs=[best_svm, best_logreg, best_hgb], \n",
    "    weights=[1, 1, 1], \n",
    "    fit_base_estimators=False)"
   ]
  },
  {
   "cell_type": "code",
   "execution_count": 41,
   "metadata": {},
   "outputs": [
    {
     "name": "stderr",
     "output_type": "stream",
     "text": [
      "/Users/ben/.pyenv/versions/3.8.5/envs/data-analysis/lib/python3.8/site-packages/mlxtend/classifier/ensemble_vote.py:166: UserWarning: fit_base_estimators=False enforces use_clones to be `False`\n",
      "  warnings.warn(\"fit_base_estimators=False \"\n"
     ]
    },
    {
     "data": {
      "text/plain": [
       "EnsembleVoteClassifier(clfs=[SGDClassifier(max_iter=5000),\n",
       "                             LogisticRegression(solver='sag'),\n",
       "                             HistGradientBoostingClassifier(early_stopping=True,\n",
       "                                                            l2_regularization=0.6,\n",
       "                                                            learning_rate=0.6,\n",
       "                                                            max_iter=150,\n",
       "                                                            validation_fraction=None)],\n",
       "                       fit_base_estimators=False, use_clones=False,\n",
       "                       weights=[1, 1, 1])"
      ]
     },
     "execution_count": 41,
     "metadata": {},
     "output_type": "execute_result"
    }
   ],
   "source": [
    "ensemble.fit(X_train, y_train)"
   ]
  },
  {
   "cell_type": "code",
   "execution_count": 42,
   "metadata": {},
   "outputs": [
    {
     "data": {
      "text/plain": [
       "0.86628"
      ]
     },
     "execution_count": 42,
     "metadata": {},
     "output_type": "execute_result"
    }
   ],
   "source": [
    "ensemble.score(X_train, y_train)"
   ]
  },
  {
   "cell_type": "code",
   "execution_count": 43,
   "metadata": {},
   "outputs": [
    {
     "data": {
      "text/plain": [
       "0.864"
      ]
     },
     "execution_count": 43,
     "metadata": {},
     "output_type": "execute_result"
    }
   ],
   "source": [
    "ensemble.score(X_val, y_val)"
   ]
  },
  {
   "cell_type": "markdown",
   "metadata": {},
   "source": [
    "This is no better than the best boosted decision tree."
   ]
  },
  {
   "cell_type": "markdown",
   "metadata": {},
   "source": [
    "## Testing Data and Error Analysis\n",
    "Run the best model from each category on the testing data, and visualize errors."
   ]
  },
  {
   "cell_type": "code",
   "execution_count": 44,
   "metadata": {},
   "outputs": [],
   "source": [
    "from sklearn.metrics import confusion_matrix\n",
    "import pandas as pd"
   ]
  },
  {
   "cell_type": "code",
   "execution_count": 45,
   "metadata": {},
   "outputs": [
    {
     "name": "stdout",
     "output_type": "stream",
     "text": [
      "Loaded X with shape (5000, 3808), y with shape (5000,).\n"
     ]
    }
   ],
   "source": [
    "X_test, y_test = load_dataset(\"data/bag-of-words-binary/test_bow_large_no_svd.csv\", 5000)"
   ]
  },
  {
   "cell_type": "markdown",
   "metadata": {},
   "source": [
    "#### SVM"
   ]
  },
  {
   "cell_type": "code",
   "execution_count": 46,
   "metadata": {},
   "outputs": [],
   "source": [
    "svm_preds = best_svm.predict(X_test)"
   ]
  },
  {
   "cell_type": "code",
   "execution_count": 47,
   "metadata": {},
   "outputs": [
    {
     "data": {
      "text/plain": [
       "0.8424"
      ]
     },
     "execution_count": 47,
     "metadata": {},
     "output_type": "execute_result"
    }
   ],
   "source": [
    "best_svm.score(X_test, y_test)"
   ]
  },
  {
   "cell_type": "code",
   "execution_count": 48,
   "metadata": {},
   "outputs": [
    {
     "data": {
      "text/html": [
       "<div>\n",
       "<style scoped>\n",
       "    .dataframe tbody tr th:only-of-type {\n",
       "        vertical-align: middle;\n",
       "    }\n",
       "\n",
       "    .dataframe tbody tr th {\n",
       "        vertical-align: top;\n",
       "    }\n",
       "\n",
       "    .dataframe thead th {\n",
       "        text-align: right;\n",
       "    }\n",
       "</style>\n",
       "<table border=\"1\" class=\"dataframe\">\n",
       "  <thead>\n",
       "    <tr style=\"text-align: right;\">\n",
       "      <th></th>\n",
       "      <th>0</th>\n",
       "      <th>1</th>\n",
       "    </tr>\n",
       "  </thead>\n",
       "  <tbody>\n",
       "    <tr>\n",
       "      <th>0</th>\n",
       "      <td>2027</td>\n",
       "      <td>449</td>\n",
       "    </tr>\n",
       "    <tr>\n",
       "      <th>1</th>\n",
       "      <td>339</td>\n",
       "      <td>2185</td>\n",
       "    </tr>\n",
       "  </tbody>\n",
       "</table>\n",
       "</div>"
      ],
      "text/plain": [
       "      0     1\n",
       "0  2027   449\n",
       "1   339  2185"
      ]
     },
     "execution_count": 48,
     "metadata": {},
     "output_type": "execute_result"
    }
   ],
   "source": [
    "# Row: Ground Truth; Column: Predicted Label\n",
    "pd.DataFrame(confusion_matrix(y_test, svm_preds))"
   ]
  },
  {
   "cell_type": "markdown",
   "metadata": {},
   "source": [
    "#### Logistic Regression"
   ]
  },
  {
   "cell_type": "code",
   "execution_count": 49,
   "metadata": {},
   "outputs": [],
   "source": [
    "lr_preds = best_logreg.predict(X_test)"
   ]
  },
  {
   "cell_type": "code",
   "execution_count": 50,
   "metadata": {},
   "outputs": [
    {
     "data": {
      "text/plain": [
       "0.8458"
      ]
     },
     "execution_count": 50,
     "metadata": {},
     "output_type": "execute_result"
    }
   ],
   "source": [
    "best_logreg.score(X_test, y_test)"
   ]
  },
  {
   "cell_type": "code",
   "execution_count": 51,
   "metadata": {},
   "outputs": [
    {
     "data": {
      "text/html": [
       "<div>\n",
       "<style scoped>\n",
       "    .dataframe tbody tr th:only-of-type {\n",
       "        vertical-align: middle;\n",
       "    }\n",
       "\n",
       "    .dataframe tbody tr th {\n",
       "        vertical-align: top;\n",
       "    }\n",
       "\n",
       "    .dataframe thead th {\n",
       "        text-align: right;\n",
       "    }\n",
       "</style>\n",
       "<table border=\"1\" class=\"dataframe\">\n",
       "  <thead>\n",
       "    <tr style=\"text-align: right;\">\n",
       "      <th></th>\n",
       "      <th>0</th>\n",
       "      <th>1</th>\n",
       "    </tr>\n",
       "  </thead>\n",
       "  <tbody>\n",
       "    <tr>\n",
       "      <th>0</th>\n",
       "      <td>2090</td>\n",
       "      <td>386</td>\n",
       "    </tr>\n",
       "    <tr>\n",
       "      <th>1</th>\n",
       "      <td>385</td>\n",
       "      <td>2139</td>\n",
       "    </tr>\n",
       "  </tbody>\n",
       "</table>\n",
       "</div>"
      ],
      "text/plain": [
       "      0     1\n",
       "0  2090   386\n",
       "1   385  2139"
      ]
     },
     "execution_count": 51,
     "metadata": {},
     "output_type": "execute_result"
    }
   ],
   "source": [
    "# Row: Ground Truth; Column: Predicted Label\n",
    "pd.DataFrame(confusion_matrix(y_test, lr_preds))"
   ]
  },
  {
   "cell_type": "markdown",
   "metadata": {},
   "source": [
    "#### Decision Tree Ensemble"
   ]
  },
  {
   "cell_type": "code",
   "execution_count": 52,
   "metadata": {},
   "outputs": [],
   "source": [
    "hgb_preds = best_hgb.predict(X_test)"
   ]
  },
  {
   "cell_type": "code",
   "execution_count": 53,
   "metadata": {},
   "outputs": [
    {
     "data": {
      "text/plain": [
       "0.866"
      ]
     },
     "execution_count": 53,
     "metadata": {},
     "output_type": "execute_result"
    }
   ],
   "source": [
    "best_hgb.score(X_test, y_test)"
   ]
  },
  {
   "cell_type": "code",
   "execution_count": 54,
   "metadata": {},
   "outputs": [
    {
     "data": {
      "text/html": [
       "<div>\n",
       "<style scoped>\n",
       "    .dataframe tbody tr th:only-of-type {\n",
       "        vertical-align: middle;\n",
       "    }\n",
       "\n",
       "    .dataframe tbody tr th {\n",
       "        vertical-align: top;\n",
       "    }\n",
       "\n",
       "    .dataframe thead th {\n",
       "        text-align: right;\n",
       "    }\n",
       "</style>\n",
       "<table border=\"1\" class=\"dataframe\">\n",
       "  <thead>\n",
       "    <tr style=\"text-align: right;\">\n",
       "      <th></th>\n",
       "      <th>0</th>\n",
       "      <th>1</th>\n",
       "    </tr>\n",
       "  </thead>\n",
       "  <tbody>\n",
       "    <tr>\n",
       "      <th>0</th>\n",
       "      <td>2148</td>\n",
       "      <td>328</td>\n",
       "    </tr>\n",
       "    <tr>\n",
       "      <th>1</th>\n",
       "      <td>342</td>\n",
       "      <td>2182</td>\n",
       "    </tr>\n",
       "  </tbody>\n",
       "</table>\n",
       "</div>"
      ],
      "text/plain": [
       "      0     1\n",
       "0  2148   328\n",
       "1   342  2182"
      ]
     },
     "execution_count": 54,
     "metadata": {},
     "output_type": "execute_result"
    }
   ],
   "source": [
    "# Row: Ground Truth; Column: Predicted Label\n",
    "pd.DataFrame(confusion_matrix(y_test, hgb_preds))"
   ]
  },
  {
   "cell_type": "code",
   "execution_count": null,
   "metadata": {},
   "outputs": [],
   "source": []
  }
 ],
 "metadata": {
  "kernelspec": {
   "display_name": "Python 3",
   "language": "python",
   "name": "python3"
  },
  "language_info": {
   "codemirror_mode": {
    "name": "ipython",
    "version": 3
   },
   "file_extension": ".py",
   "mimetype": "text/x-python",
   "name": "python",
   "nbconvert_exporter": "python",
   "pygments_lexer": "ipython3",
   "version": "3.8.5"
  }
 },
 "nbformat": 4,
 "nbformat_minor": 4
}
