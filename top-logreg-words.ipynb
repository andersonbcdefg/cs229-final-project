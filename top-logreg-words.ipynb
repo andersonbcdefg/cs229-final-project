{
 "cells": [
  {
   "cell_type": "code",
   "execution_count": 7,
   "metadata": {},
   "outputs": [],
   "source": [
    "import pickle\n",
    "import numpy as np"
   ]
  },
  {
   "cell_type": "code",
   "execution_count": 8,
   "metadata": {},
   "outputs": [],
   "source": [
    "bag_of_words_logreg = pickle.load(open(\"../pickles/BIG-BAG-LOGREG-RESULTS.pickle\", \"rb\"))"
   ]
  },
  {
   "cell_type": "code",
   "execution_count": 13,
   "metadata": {},
   "outputs": [],
   "source": [
    "coeffs = bag_of_words_logreg['model'][-1].coef_[0]"
   ]
  },
  {
   "cell_type": "code",
   "execution_count": 14,
   "metadata": {},
   "outputs": [],
   "source": [
    "ranking = np.argsort(coeffs)"
   ]
  },
  {
   "cell_type": "code",
   "execution_count": 32,
   "metadata": {},
   "outputs": [],
   "source": [
    "top_ten_idxs = ranking[-10:]\n",
    "btm_ten_idxs = ranking[:10]"
   ]
  },
  {
   "cell_type": "code",
   "execution_count": 33,
   "metadata": {},
   "outputs": [],
   "source": [
    "tf = pickle.load(open(\"../pickles/text-featurizer.pickle\", \"rb\"))"
   ]
  },
  {
   "cell_type": "code",
   "execution_count": 35,
   "metadata": {},
   "outputs": [
    {
     "name": "stdout",
     "output_type": "stream",
     "text": [
      "Top ten spam words:\n",
      "#top\n",
      "#sports\n",
      "#news\n",
      "#mar\n",
      "rr\n",
      "#blacktwitter\n",
      "talibkweli\n",
      "#igetdepressedwhen\n",
      "#topl\n",
      "#maga\n",
      "\n",
      "Top ten not-spam words:\n",
      "awww\n",
      "httpstco\n",
      "#utpol\n",
      "#sotu\n",
      "haha\n",
      "lt3\n",
      "yay\n",
      "#smallbiz\n",
      "hehe\n",
      "xx\n"
     ]
    }
   ],
   "source": [
    "vocab = tf[1]\n",
    "idx_to_word = {idx:word for word, idx in vocab.items()}\n",
    "print(\"Top ten spam words:\")\n",
    "for i in reversed(top_ten_idxs):\n",
    "    print(idx_to_word[i])\n",
    "print(\"\\nTop ten not-spam words:\")\n",
    "for i in btm_ten_idxs:\n",
    "    print(idx_to_word[i])\n",
    "    "
   ]
  },
  {
   "cell_type": "code",
   "execution_count": null,
   "metadata": {},
   "outputs": [],
   "source": []
  }
 ],
 "metadata": {
  "kernelspec": {
   "display_name": "Python 3",
   "language": "python",
   "name": "python3"
  },
  "language_info": {
   "codemirror_mode": {
    "name": "ipython",
    "version": 3
   },
   "file_extension": ".py",
   "mimetype": "text/x-python",
   "name": "python",
   "nbconvert_exporter": "python",
   "pygments_lexer": "ipython3",
   "version": "3.8.5"
  }
 },
 "nbformat": 4,
 "nbformat_minor": 4
}
